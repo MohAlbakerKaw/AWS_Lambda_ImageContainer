{
 "cells": [
  {
   "cell_type": "markdown",
   "id": "a77030ff",
   "metadata": {
    "jupyter": {
     "outputs_hidden": true
    }
   },
   "source": [
    "### Steps Required\n",
    "1- Go to app/app.py <br>\n",
    "2- Add your code <br>\n",
    "3- Add the imported frameworks to the requirements.txt <br>\n",
    "4- Adjust mentioned scripts if needed <br>\n",
    "5- Enter the algorithm name in the first cell of this notebook <br>\n",
    "6- Run the first cell <br>\n",
    "7- By now, the image is pushed to the Elastic Container Registry <br>\n",
    "8- Create a new lambda function based on container image <br>\n",
    "9- Add API gateway as a trigger for the lambda <br> \n",
    "##### And Your Code is Depolyed !!"
   ]
  },
  {
   "cell_type": "code",
   "execution_count": null,
   "id": "d567fbf0",
   "metadata": {},
   "outputs": [],
   "source": [
    "%%sh\n",
    "##############################################\n",
    "######### The name of your algorithm #########\n",
    "algorithm_name=  ### please enter the name ###\n",
    "##############################################\n",
    "\n",
    "cd container\n",
    "\n",
    "account=$(aws sts get-caller-identity --query Account --output text)\n",
    "\n",
    "# Get the region defined in the current configuration (default to us-west-2 if none defined)\n",
    "region=$(aws configure get region)\n",
    "\n",
    "fullname=\"${account}.dkr.ecr.${region}.amazonaws.com/${algorithm_name}:latest\"\n",
    "\n",
    "# If the repository doesn't exist in ECR, create it.\n",
    "aws ecr describe-repositories --repository-names \"${algorithm_name}\" > /dev/null 2>&1\n",
    "\n",
    "if [ $? -ne 0 ]\n",
    "then\n",
    "    aws ecr create-repository --repository-name \"${algorithm_name}\" > /dev/null\n",
    "fi\n",
    "\n",
    "# Get the login command from ECR and execute it directly\n",
    "aws ecr get-login-password --region ${region}|docker login --username AWS --password-stdin ${fullname}\n",
    "\n",
    "# Build the docker image locally with the image name and then push it to ECR\n",
    "# with the full name.\n",
    "\n",
    "docker build  -t ${algorithm_name} .\n",
    "docker tag ${algorithm_name} ${fullname}\n",
    "\n",
    "docker push ${fullname}"
   ]
  },
  {
   "cell_type": "markdown",
   "id": "53c79ea4",
   "metadata": {},
   "source": [
    "### To call API \n",
    "1- Copy and paste API_Endpoint <br>\n",
    "2- Edit payload if needed <br>\n",
    "3- Run the cell below <br>"
   ]
  },
  {
   "cell_type": "code",
   "execution_count": null,
   "id": "4ba3d6bf",
   "metadata": {},
   "outputs": [],
   "source": [
    "# call api\n",
    "!curl -XPOST API_Endpoint -d payload "
   ]
  },
  {
   "cell_type": "code",
   "execution_count": null,
   "id": "c090077f",
   "metadata": {},
   "outputs": [],
   "source": []
  }
 ],
 "metadata": {
  "kernelspec": {
   "display_name": "conda_python3",
   "language": "python",
   "name": "conda_python3"
  },
  "language_info": {
   "codemirror_mode": {
    "name": "ipython",
    "version": 3
   },
   "file_extension": ".py",
   "mimetype": "text/x-python",
   "name": "python",
   "nbconvert_exporter": "python",
   "pygments_lexer": "ipython3",
   "version": "3.6.13"
  }
 },
 "nbformat": 4,
 "nbformat_minor": 5
}
